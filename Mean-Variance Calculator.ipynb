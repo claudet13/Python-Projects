{
 "cells": [
  {
   "cell_type": "code",
   "execution_count": 1,
   "metadata": {},
   "outputs": [],
   "source": [
    "# Import the necessary libraries\n",
    "import numpy as np\n",
    "import pandas as pd\n"
   ]
  },
  {
   "cell_type": "code",
   "execution_count": 2,
   "metadata": {},
   "outputs": [],
   "source": [
    "# Create a function that takes a list of elements and calculates the descriptive statistics\n",
    "def calculate(list_of_elements):\n",
    "    try:\n",
    "        b = np.array(list_of_elements)\n",
    "        c = b.reshape((3,3))\n",
    "        calculations = {'Mean':[list(c.mean(axis=0)), list(c.mean(axis=1)), c.mean()],\n",
    "                'Variance':[list(c.var(axis=0)), list(c.var(axis=1)), c.var()],\n",
    "                'Standard deviation':[list(c.std(axis=0)), list(c.std(axis=1)), c.std()],\n",
    "                'Max':[list(c.max(axis=0)), list(c.max(axis=1)), c.max()],\n",
    "                'Min':[list(c.min(axis=0)), list(c.min(axis=1)), c.min()],\n",
    "                'Sum':[list(c.sum(axis=0)), list(c.sum(axis=1)), c.sum()]}\n",
    "        return calculations\n",
    "    except ValueError:\n",
    "        print(\"List must contain 9 numbers\")"
   ]
  },
  {
   "cell_type": "code",
   "execution_count": 3,
   "metadata": {},
   "outputs": [
    {
     "data": {
      "text/plain": [
       "{'Mean': [[3.6666666666666665, 5.0, 3.0],\n",
       "  [3.3333333333333335, 4.0, 4.333333333333333],\n",
       "  3.888888888888889],\n",
       " 'Variance': [[9.555555555555557, 0.6666666666666666, 8.666666666666666],\n",
       "  [3.555555555555556, 10.666666666666666, 6.222222222222221],\n",
       "  6.987654320987654],\n",
       " 'Standard deviation': [[3.091206165165235,\n",
       "   0.816496580927726,\n",
       "   2.943920288775949],\n",
       "  [1.8856180831641267, 3.265986323710904, 2.494438257849294],\n",
       "  2.6434171674156266],\n",
       " 'Max': [[8, 6, 7], [6, 8, 7], 8],\n",
       " 'Min': [[1, 4, 0], [2, 0, 1], 0],\n",
       " 'Sum': [[11, 15, 9], [10, 12, 13], 35]}"
      ]
     },
     "execution_count": 3,
     "metadata": {},
     "output_type": "execute_result"
    }
   ],
   "source": [
    "test_1 = calculate([2,6,2,8,4,0,1,5,7])\n",
    "test_1"
   ]
  },
  {
   "cell_type": "code",
   "execution_count": 4,
   "metadata": {},
   "outputs": [
    {
     "data": {
      "text/plain": [
       "{'Mean': [[4.666666666666667, 4.333333333333333, 2.6666666666666665],\n",
       "  [5.0, 3.0, 3.6666666666666665],\n",
       "  3.888888888888889],\n",
       " 'Variance': [[9.555555555555555, 11.555555555555557, 4.222222222222222],\n",
       "  [10.666666666666666, 0.0, 14.888888888888891],\n",
       "  9.209876543209875],\n",
       " 'Standard deviation': [[3.0912061651652345,\n",
       "   3.39934634239519,\n",
       "   2.0548046676563256],\n",
       "  [3.265986323710904, 0.0, 3.8586123009300755],\n",
       "  3.0347778408328137],\n",
       " 'Max': [[9, 9, 5], [9, 3, 9], 9],\n",
       " 'Min': [[2, 1, 0], [1, 3, 0], 0],\n",
       " 'Sum': [[14, 13, 8], [15, 9, 11], 35]}"
      ]
     },
     "execution_count": 4,
     "metadata": {},
     "output_type": "execute_result"
    }
   ],
   "source": [
    "test_2 = calculate([9,1,5,3,3,3,2,9,0])\n",
    "test_2"
   ]
  },
  {
   "cell_type": "code",
   "execution_count": 5,
   "metadata": {},
   "outputs": [
    {
     "name": "stdout",
     "output_type": "stream",
     "text": [
      "List must contain 9 numbers\n"
     ]
    }
   ],
   "source": [
    "test_3 = calculate([2,6,2,8,4,0,1,])\n",
    "test_3"
   ]
  },
  {
   "cell_type": "code",
   "execution_count": null,
   "metadata": {},
   "outputs": [],
   "source": []
  }
 ],
 "metadata": {
  "kernelspec": {
   "display_name": "base",
   "language": "python",
   "name": "python3"
  },
  "language_info": {
   "codemirror_mode": {
    "name": "ipython",
    "version": 3
   },
   "file_extension": ".py",
   "mimetype": "text/x-python",
   "name": "python",
   "nbconvert_exporter": "python",
   "pygments_lexer": "ipython3",
   "version": "3.9.12"
  },
  "orig_nbformat": 4
 },
 "nbformat": 4,
 "nbformat_minor": 2
}
